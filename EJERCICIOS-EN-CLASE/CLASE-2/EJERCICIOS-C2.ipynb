{
 "cells": [
  {
   "cell_type": "markdown",
   "metadata": {},
   "source": [
    "## Ejercicio-1"
   ]
  },
  {
   "cell_type": "code",
   "execution_count": 13,
   "metadata": {},
   "outputs": [
    {
     "name": "stdout",
     "output_type": "stream",
     "text": [
      "El resultado de la operación es 9\n"
     ]
    }
   ],
   "source": [
    "operacion = 6 // 2 * (1 + 2)\n",
    "print(f\"El resultado de la operación es {operacion}\")"
   ]
  },
  {
   "cell_type": "markdown",
   "metadata": {},
   "source": [
    "## Ejercicio-2\n"
   ]
  },
  {
   "cell_type": "code",
   "execution_count": 15,
   "metadata": {},
   "outputs": [
    {
     "name": "stdout",
     "output_type": "stream",
     "text": [
      "El valor del producto es de 59.5 €\n"
     ]
    }
   ],
   "source": [
    "precio_prod_100 = 5.95\n",
    "valor_kilo_prod = precio_prod_100 * 10\n",
    "print(f\"El valor del producto es de {valor_kilo_prod} €\")"
   ]
  },
  {
   "cell_type": "markdown",
   "metadata": {},
   "source": [
    "## Ejercicio-3"
   ]
  },
  {
   "cell_type": "code",
   "execution_count": 16,
   "metadata": {},
   "outputs": [
    {
     "name": "stdout",
     "output_type": "stream",
     "text": [
      "El total de peces en el acuario son 447 peces\n"
     ]
    }
   ],
   "source": [
    "n_peces_rojos = 284\n",
    "n_peces_azules = 163\n",
    "total = n_peces_rojos + n_peces_azules\n",
    "print(f\"El total de peces en el acuario son {total} peces\")"
   ]
  },
  {
   "cell_type": "markdown",
   "metadata": {},
   "source": [
    "## Ejercicio-4"
   ]
  },
  {
   "cell_type": "code",
   "execution_count": 17,
   "metadata": {},
   "outputs": [
    {
     "name": "stdout",
     "output_type": "stream",
     "text": [
      "Carmen ha gastado 10.25\n"
     ]
    }
   ],
   "source": [
    "dinero_inicial = 23\n",
    "dinero_final = 12.75\n",
    "gasto = dinero_inicial - dinero_final\n",
    "print(f\"Carmen ha gastado {gasto}\")\n"
   ]
  },
  {
   "cell_type": "markdown",
   "metadata": {},
   "source": [
    "## Ejercicio-5\n"
   ]
  },
  {
   "cell_type": "code",
   "execution_count": 21,
   "metadata": {},
   "outputs": [
    {
     "name": "stdout",
     "output_type": "stream",
     "text": [
      "Deberia de pagar 594.0 € por la PC con todos los accesorios.\n"
     ]
    }
   ],
   "source": [
    "valor_pc = 660\n",
    "descuento_pc = 0.1\n",
    "valor_total = valor_pc - (valor_pc * descuento_pc)\n",
    "print(f\"Deberia de pagar {valor_total} € por la PC con todos los accesorios.\")"
   ]
  },
  {
   "cell_type": "markdown",
   "metadata": {},
   "source": [
    "## Ejercicio-6\n"
   ]
  },
  {
   "cell_type": "code",
   "execution_count": 20,
   "metadata": {},
   "outputs": [
    {
     "name": "stdout",
     "output_type": "stream",
     "text": [
      "El valor de los pantalones sin el descuento es de 39.1\n"
     ]
    }
   ],
   "source": [
    "valor_pagado = 34\n",
    "descuento = 0.15\n",
    "precio_anterior = valor_pagado + (valor_pagado * descuento)\n",
    "print(f\"El valor de los pantalones sin el descuento es de {precio_anterior}\")"
   ]
  }
 ],
 "metadata": {
  "interpreter": {
   "hash": "2deaf031474dc928cc85fe30425ff4c1d68960c32cdb004a5e00cb5abd07af61"
  },
  "kernelspec": {
   "display_name": "Python 3.10.4 64-bit",
   "language": "python",
   "name": "python3"
  },
  "language_info": {
   "codemirror_mode": {
    "name": "ipython",
    "version": 3
   },
   "file_extension": ".py",
   "mimetype": "text/x-python",
   "name": "python",
   "nbconvert_exporter": "python",
   "pygments_lexer": "ipython3",
   "version": "3.10.4"
  },
  "orig_nbformat": 4
 },
 "nbformat": 4,
 "nbformat_minor": 2
}
