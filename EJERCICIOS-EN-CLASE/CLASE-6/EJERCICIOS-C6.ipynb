{
 "cells": [
  {
   "cell_type": "markdown",
   "metadata": {},
   "source": [
    "## Condicionales"
   ]
  },
  {
   "cell_type": "code",
   "execution_count": 9,
   "metadata": {},
   "outputs": [
    {
     "name": "stdout",
     "output_type": "stream",
     "text": [
      "Haz sacado 5 Felicitaciones\n"
     ]
    }
   ],
   "source": [
    "def ejer1(nota: float):\n",
    "    mensaje = \"Haz sacado {} {}\"\n",
    "    if nota >= 4:\n",
    "        otro_mensaje = \"Felicitaciones\"\n",
    "    else:\n",
    "        otro_mensaje = \"\"\n",
    "    return mensaje.format(nota,otro_mensaje)\n",
    "print(ejer1(5))"
   ]
  },
  {
   "cell_type": "code",
   "execution_count": 10,
   "metadata": {},
   "outputs": [
    {
     "name": "stdout",
     "output_type": "stream",
     "text": [
      "Haz sacado 5 Ganaste el curso\n"
     ]
    }
   ],
   "source": [
    "def ejer2(nota: float):\n",
    "    mensaje = \"Haz sacado {} {} el curso\"\n",
    "    if nota >= 3:\n",
    "        otro_mensaje = \"Ganaste\"\n",
    "    else:\n",
    "        otro_mensaje = \"Perdiste\"\n",
    "    return mensaje.format(nota,otro_mensaje)\n",
    "print(ejer2(5))"
   ]
  },
  {
   "cell_type": "code",
   "execution_count": 12,
   "metadata": {},
   "outputs": [
    {
     "name": "stdout",
     "output_type": "stream",
     "text": [
      "Yinner eres Mayor de edad\n"
     ]
    }
   ],
   "source": [
    "def ejer3(nombre: str, edad: int):\n",
    "    mensaje = \"{} eres {} de edad\"\n",
    "    if edad >= 18:\n",
    "        otro_mensaje = \"Mayor\"\n",
    "    else:\n",
    "        otro_mensaje = \"Menor\"\n",
    "    return mensaje.format(nombre,otro_mensaje)\n",
    "print(ejer3(\"Yinner\",18))"
   ]
  },
  {
   "cell_type": "code",
   "execution_count": 19,
   "metadata": {},
   "outputs": [
    {
     "name": "stdout",
     "output_type": "stream",
     "text": [
      "-3 es Impar\n"
     ]
    }
   ],
   "source": [
    "def ejer4(numero: int):\n",
    "    mensaje = \"{} es {}\"\n",
    "    if numero % 2 == 0:\n",
    "        otro_mensaje = \"Par\"\n",
    "    else:\n",
    "        otro_mensaje = \"Impar\"\n",
    "    return mensaje.format(numero,otro_mensaje)\n",
    "print(ejer4(-3))"
   ]
  },
  {
   "cell_type": "code",
   "execution_count": 24,
   "metadata": {},
   "outputs": [
    {
     "name": "stdout",
     "output_type": "stream",
     "text": [
      "El numero 7.9 esta fuera del rango\n"
     ]
    }
   ],
   "source": [
    "def ejer5(numero: float):\n",
    "    mensaje = \"El numero {} esta {} del rango\"\n",
    "    if numero >= 3.8 and numero <= 7.8:\n",
    "        otro_mensaje = \"dentro\"\n",
    "    else:\n",
    "        otro_mensaje = \"fuera\"\n",
    "    return mensaje.format(numero,otro_mensaje)\n",
    "print(ejer5(7.9))\n",
    "    "
   ]
  },
  {
   "cell_type": "code",
   "execution_count": 41,
   "metadata": {},
   "outputs": [
    {
     "name": "stdout",
     "output_type": "stream",
     "text": [
      "El numero 6 esta dentro del rango [3.8 , 7.8] , dentro del rango [9.3 , 4.5] y fuera del rango [23.4 , 45.3].\n"
     ]
    }
   ],
   "source": [
    "def ejer6(numero: float):\n",
    "    rango1 = \"[3.8 , 7.8]\"\n",
    "    rango2 = \"[9.3 , 4.5]\"\n",
    "    rango3 = \"[23.4 , 45.3]\"\n",
    "    \n",
    "    \n",
    "    if numero >= 3.8 and numero <= 7.8:\n",
    "        esta1 = \"esta dentro del rango \" + rango1\n",
    "    else:\n",
    "        esta1 = \"esta fuera del rango \" + rango1\n",
    "    \n",
    "    if numero <= 9.3 and numero >= 4.5:\n",
    "        esta2 = \"dentro del rango \" + rango2\n",
    "    else:\n",
    "        esta2 = \"fuera del rango \" + rango2\n",
    "    \n",
    "    if numero >= 23.4 and numero <= 45.3:\n",
    "        esta3 = \"dentro del rango \" + rango3\n",
    "    else:\n",
    "        esta3 = \"fuera del rango \" + rango3\n",
    "    \n",
    "    mensaje = \"El numero {} {} , {} y {}.\" \n",
    "    return mensaje.format(numero,esta1,esta2,esta3)\n",
    "print(ejer6(6))\n",
    "    "
   ]
  },
  {
   "cell_type": "code",
   "execution_count": 56,
   "metadata": {},
   "outputs": [
    {
     "name": "stdout",
     "output_type": "stream",
     "text": [
      "IOS\n"
     ]
    }
   ],
   "source": [
    "def ejer7(caracter: str):\n",
    "    letra = caracter.upper()\n",
    "    if letra == \"A\":\n",
    "        respuesta = \"Android\"\n",
    "    elif letra == \"I\":\n",
    "        respuesta = \"IOS\"\n",
    "    else:\n",
    "        respuesta = \"Opción invalida\"\n",
    "    return respuesta\n",
    "\n",
    "print(ejer7(\"i\"))"
   ]
  },
  {
   "cell_type": "code",
   "execution_count": 63,
   "metadata": {},
   "outputs": [
    {
     "name": "stdout",
     "output_type": "stream",
     "text": [
      "Insuficiente\n"
     ]
    }
   ],
   "source": [
    "def ejer8(nota: float):\n",
    "    if nota < 3:\n",
    "        mensaje = \"Insuficiente\"\n",
    "    elif nota <= 3.5:\n",
    "        mensaje = \"Aceptable\"\n",
    "    elif nota <= 4:\n",
    "        mensaje = \"Sobresaliente\"\n",
    "    elif nota <= 5:\n",
    "        mensaje = \"Excelente\"\n",
    "    return mensaje\n",
    "print(ejer8(2.9))\n",
    "        "
   ]
  },
  {
   "cell_type": "code",
   "execution_count": 67,
   "metadata": {},
   "outputs": [
    {
     "name": "stdout",
     "output_type": "stream",
     "text": [
      "El numero mayor es 200\n"
     ]
    }
   ],
   "source": [
    "def ejer9(n1:int,n2:int,n3:int,n4:int):\n",
    "    if n1 > n2 and n1 > n3 and n1 > n4:\n",
    "        mayor = n1\n",
    "    elif n2 > n3 and n2 > n4:\n",
    "        mayor = n2\n",
    "    elif n3 > n4:\n",
    "        mayor = n3\n",
    "    else:\n",
    "        mayor = n4\n",
    "    mensaje = f\"El numero mayor es {mayor}\"\n",
    "    return mensaje\n",
    "print(ejer9(200,50,14,9))"
   ]
  },
  {
   "cell_type": "code",
   "execution_count": 79,
   "metadata": {},
   "outputs": [
    {
     "name": "stdout",
     "output_type": "stream",
     "text": [
      "El total de la factura a pagar es de 228000\n"
     ]
    }
   ],
   "source": [
    "def ejer10(estrato: int, metros_cubicos: int):\n",
    "    estrato1 = {\n",
    "        \"cargo fijo\" : 2500,\n",
    "        \"metro consumido\" : 2200,\n",
    "        \"basuras-alcantarillado\" : 5500\n",
    "    }\n",
    "    estrato2 = {\n",
    "        \"cargo fijo\" : 2800,\n",
    "        \"metro consumido\" : 2350,\n",
    "        \"basuras-alcantarillado\" : 6200\n",
    "    }\n",
    "    estrato3 = {\n",
    "        \"cargo fijo\" : 3000,\n",
    "        \"metro consumido\" : 2600,\n",
    "        \"basuras-alcantarillado\" : 7400\n",
    "    }\n",
    "    estrato4 = {\n",
    "        \"cargo fijo\" : 3300,\n",
    "        \"metro consumido\" : 3400,\n",
    "        \"basuras-alcantarillado\" : 8600\n",
    "    }\n",
    "    estrato5 = {\n",
    "        \"cargo fijo\" : 3700,\n",
    "        \"metro consumido\" : 3900,\n",
    "        \"basuras-alcantarillado\" : 9700\n",
    "    }\n",
    "    estrato6 = {\n",
    "        \"cargo fijo\" : 4400,\n",
    "        \"metro consumido\" : 4800,\n",
    "        \"basuras-alcantarillado\" : 11000\n",
    "    }\n",
    "    \n",
    "    if estrato == 1:\n",
    "        factura = estrato1[\"cargo fijo\"] + (estrato1[\"metro consumido\"] * metros_cubicos) + estrato1[\"basuras-alcantarillado\"]\n",
    "        \n",
    "    elif estrato == 2:\n",
    "        factura = estrato2[\"cargo fijo\"] + (estrato2[\"metro consumido\"] \n",
    "        * metros_cubicos) + estrato2[\"basuras-alcantarillado\"]\n",
    "\n",
    "    elif estrato == 3:\n",
    "        factura = estrato3[\"cargo fijo\"] + (estrato3[\"metro consumido\"] \n",
    "        * metros_cubicos) + estrato3[\"basuras-alcantarillado\"]\n",
    "    \n",
    "    elif estrato == 4:\n",
    "        factura = estrato4[\"cargo fijo\"] + (estrato4[\"metro consumido\"] * metros_cubicos) + estrato4[\"basuras-alcantarillado\"]\n",
    "    \n",
    "    elif estrato == 5:\n",
    "        factura = estrato5[\"cargo fijo\"] + (estrato5[\"metro consumido\"] * metros_cubicos) + estrato5[\"basuras-alcantarillado\"]\n",
    "        \n",
    "    elif estrato == 6:\n",
    "        factura = estrato6[\"cargo fijo\"] + (estrato6[\"metro consumido\"] * metros_cubicos) + estrato6[\"basuras-alcantarillado\"]\n",
    "    \n",
    "    # else:\n",
    "    #     factura = \"Estrato invalido\"\n",
    "    \n",
    "    mensaje = f\"El total de la factura a pagar es de {round(factura,2)}\"\n",
    "    return mensaje\n",
    "\n",
    "print(ejer10(1,100))\n"
   ]
  },
  {
   "cell_type": "code",
   "execution_count": 85,
   "metadata": {},
   "outputs": [
    {
     "name": "stdout",
     "output_type": "stream",
     "text": [
      "El soldado es apto\n"
     ]
    }
   ],
   "source": [
    "def ejer11(sexo: str, edad: int , altura: float, estado_civil: str):\n",
    "    sexo = sexo.upper()\n",
    "    estado_civil = estado_civil.upper()\n",
    "    \n",
    "    if sexo == \"M\" and edad >= 18 and edad <=24 and altura > 1.65 and estado_civil == \"S\":\n",
    "        apto = \"es apto\"\n",
    "    \n",
    "    elif sexo == \"F\" and edad >= 20 and edad <=25 and altura > 1.60 and estado_civil == \"S\":\n",
    "        apto = \"es apto\"\n",
    "    else:\n",
    "        apto = \"no es apto\"\n",
    "        \n",
    "    mensaje = f\"El soldado {apto}\"\n",
    "    return mensaje\n",
    "\n",
    "print(ejer11(\"f\",23,1.62,\"S\"))\n",
    "    "
   ]
  },
  {
   "cell_type": "markdown",
   "metadata": {},
   "source": [
    "## Diccionarios"
   ]
  },
  {
   "cell_type": "code",
   "execution_count": 92,
   "metadata": {},
   "outputs": [
    {
     "name": "stdout",
     "output_type": "stream",
     "text": [
      "Primero se le rego la gaseosa a Pepe\n",
      "Luego se le rego la gaseosa a Juan\n",
      "y finalmente se le rego la gaseosa a Carlos\n"
     ]
    }
   ],
   "source": [
    "def desperdicio_de_gaseosa(amigo_1: dict, amigo_2:dict , amigo_3: dict, capacidad_boton: float):\n",
    "    vaso1 = amigo_1[\"capacidad_actual\"] + capacidad_boton > amigo_1[\"capacidad_vaso\"]\n",
    "    vaso2 = amigo_2[\"capacidad_actual\"] + capacidad_boton > amigo_2[\"capacidad_vaso\"]\n",
    "    vaso3 = amigo_3[\"capacidad_actual\"] + capacidad_boton > amigo_3[\"capacidad_vaso\"]\n",
    "    \n",
    "    if vaso1 == False and vaso2 == False and vaso3 == False:\n",
    "        return None\n",
    "    if vaso1 == True:\n",
    "        mensaje1 = \"Primero se le rego la gaseosa a {}\".format(amigo_1[\"nombre\"])\n",
    "    if vaso2 == True:\n",
    "        mensaje2 = \"Luego se le rego la gaseosa a {}\".format(amigo_2[\"nombre\"])\n",
    "    if vaso3 == True:\n",
    "        mensaje3 = \"y finalmente se le rego la gaseosa a {}\".format(amigo_3[\"nombre\"])\n",
    "    \n",
    "    aviso = f\"{mensaje1}\\n{mensaje2}\\n{mensaje3}\"\n",
    "    return aviso\n",
    "\n",
    "amigo_1 = {\n",
    "    \"nombre\" : \"Pepe\",\n",
    "    \"capacidad_vaso\" : 10.5,\n",
    "    \"capacidad_actual\" : 6.5,\n",
    "}\n",
    "\n",
    "amigo_2 = {\n",
    "    \"nombre\" : \"Juan\",\n",
    "    \"capacidad_vaso\" : 8.5,\n",
    "    \"capacidad_actual\" : 4.8,\n",
    "}\n",
    "\n",
    "amigo_3 = {\n",
    "    \"nombre\" : \"Carlos\",\n",
    "    \"capacidad_vaso\" : 9.5,\n",
    "    \"capacidad_actual\" : 7.0,\n",
    "}\n",
    "\n",
    "capacidad_boton = 10\n",
    "\n",
    "print(desperdicio_de_gaseosa(amigo_1,amigo_2,amigo_3,capacidad_boton))"
   ]
  }
 ],
 "metadata": {
  "interpreter": {
   "hash": "2deaf031474dc928cc85fe30425ff4c1d68960c32cdb004a5e00cb5abd07af61"
  },
  "kernelspec": {
   "display_name": "Python 3.10.4 64-bit",
   "language": "python",
   "name": "python3"
  },
  "language_info": {
   "codemirror_mode": {
    "name": "ipython",
    "version": 3
   },
   "file_extension": ".py",
   "mimetype": "text/x-python",
   "name": "python",
   "nbconvert_exporter": "python",
   "pygments_lexer": "ipython3",
   "version": "3.10.4"
  },
  "orig_nbformat": 4
 },
 "nbformat": 4,
 "nbformat_minor": 2
}
