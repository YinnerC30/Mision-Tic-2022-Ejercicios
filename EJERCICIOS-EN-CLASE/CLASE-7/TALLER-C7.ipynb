{
 "cells": [
  {
   "cell_type": "markdown",
   "metadata": {},
   "source": [
    "## Ejercicio 1"
   ]
  },
  {
   "cell_type": "code",
   "execution_count": 5,
   "metadata": {},
   "outputs": [
    {
     "name": "stdout",
     "output_type": "stream",
     "text": [
      "El numero ingresado 97, su primer digito 9 no es par y su segundo digito 7 no es par\n"
     ]
    }
   ],
   "source": [
    "def ejer1(numero: int):\n",
    "    numero = str(numero)\n",
    "    p_numero = int(numero[0])\n",
    "    s_numero = int(numero[1])\n",
    "    if p_numero % 2 == 0:\n",
    "        es_par1 = \"es par\"\n",
    "    else:\n",
    "        es_par1 = \"no es par\"\n",
    "    if s_numero % 2 == 0:\n",
    "        es_par2 = \"es par\"\n",
    "    else:\n",
    "        es_par2 = \"no es par\"\n",
    "    \n",
    "    mensaje = f\"El numero ingresado {numero}, su primer digito {p_numero} {es_par1} y su segundo digito {s_numero} {es_par2}\"\n",
    "    \n",
    "    return mensaje\n",
    "print(ejer1(97))"
   ]
  },
  {
   "cell_type": "markdown",
   "metadata": {},
   "source": [
    "## Ejercicio 2"
   ]
  },
  {
   "cell_type": "code",
   "execution_count": 7,
   "metadata": {},
   "outputs": [
    {
     "name": "stdout",
     "output_type": "stream",
     "text": [
      "Al trabajador se le va a pagar 60000 por 30 horas de trabajo\n"
     ]
    }
   ],
   "source": [
    "def ejer2(horas: float, tarifa: int):\n",
    "    pago = horas * tarifa\n",
    "    if horas > 40:\n",
    "        h_extra = horas - 40\n",
    "        tarifa_extra = tarifa * 1.5\n",
    "        pago = 40 * tarifa + (h_extra * tarifa_extra)\n",
    "    mensaje = f\"Al trabajador se le va a pagar {pago} por {horas} horas de trabajo\"\n",
    "    return mensaje\n",
    "print(ejer2(30,2000))\n",
    "    "
   ]
  },
  {
   "cell_type": "markdown",
   "metadata": {},
   "source": [
    "## Ejercicio 3"
   ]
  },
  {
   "cell_type": "code",
   "execution_count": 14,
   "metadata": {},
   "outputs": [
    {
     "name": "stdout",
     "output_type": "stream",
     "text": [
      "Por la compra de 0 camisas el total a pagar es de 0.0\n"
     ]
    }
   ],
   "source": [
    "def ejer3(numero_camisas: int, valor_camisa: int):\n",
    "    descuento = 0.1\n",
    "    valor_regular = numero_camisas * valor_camisa\n",
    "    total = valor_regular - (valor_regular * descuento)\n",
    "    \n",
    "    if numero_camisas >= 3:\n",
    "        descuento = 0.2\n",
    "    \n",
    "    mensaje = f\"Por la compra de {numero_camisas} camisas el total a pagar es de {total}\"\n",
    "    return mensaje\n",
    "\n",
    "print(ejer3(0,20000))        \n",
    "    "
   ]
  },
  {
   "cell_type": "markdown",
   "metadata": {},
   "source": [
    "## Ejercicio 4"
   ]
  },
  {
   "cell_type": "code",
   "execution_count": 21,
   "metadata": {},
   "outputs": [
    {
     "name": "stdout",
     "output_type": "stream",
     "text": [
      "Yinner\n",
      "Yinner\n",
      "Yinner\n",
      "Yinner\n",
      "Yinner\n",
      "Yinner\n",
      "\n"
     ]
    }
   ],
   "source": [
    "def ejer4(nombre: str,numero: int):\n",
    "    return f\"{nombre}\\n\" * numero\n",
    "print(ejer4(\"Yinner\",6))"
   ]
  },
  {
   "cell_type": "markdown",
   "metadata": {},
   "source": [
    "## Ejercicio 5"
   ]
  },
  {
   "cell_type": "code",
   "execution_count": 24,
   "metadata": {},
   "outputs": [
    {
     "name": "stdout",
     "output_type": "stream",
     "text": [
      "<Natalia> tiene 7 letras\n"
     ]
    }
   ],
   "source": [
    "def ejer5(nombre: str):\n",
    "    tamaño = len(nombre)\n",
    "    return f\"<{nombre}> tiene {tamaño} letras\"\n",
    "\n",
    "print(ejer5(\"Natalia\"))"
   ]
  },
  {
   "cell_type": "markdown",
   "metadata": {},
   "source": [
    "## Ejercicio 6"
   ]
  },
  {
   "cell_type": "code",
   "execution_count": 27,
   "metadata": {},
   "outputs": [
    {
     "name": "stdout",
     "output_type": "stream",
     "text": [
      "314773654\n"
     ]
    }
   ],
   "source": [
    "def ejer6(numero: str):\n",
    "    \"\"\"\n",
    "\n",
    "    Args:\n",
    "        numero (str): Escriba su numero de telefono con esta estructura:\n",
    "        +57-313724710-56\n",
    "    \"\"\"\n",
    "    prefijo = numero[0:3]\n",
    "    numeroT = numero[4:13]\n",
    "    extension = numero[11:]\n",
    "    \n",
    "    return numeroT\n",
    "print(ejer6(\"+57-314773654-34\"))"
   ]
  },
  {
   "cell_type": "markdown",
   "metadata": {},
   "source": [
    "## Ejercicio 7"
   ]
  },
  {
   "cell_type": "code",
   "execution_count": 32,
   "metadata": {},
   "outputs": [
    {
     "name": "stdout",
     "output_type": "stream",
     "text": [
      "Hay una o varias calificaciónes invalidas\n"
     ]
    }
   ],
   "source": [
    "def ejer7(nota1: float, nota2: float, nota3: float):\n",
    "    if nota1 >= 0 and nota1 <= 5 and nota2 >= 0 and nota2 <= 5 and nota3 >= 0 and nota3 <= 5:\n",
    "        promedio = (nota1+nota2+nota3)/3\n",
    "        promedio = round(promedio,1)\n",
    "        if promedio > 3:\n",
    "            mensaje = f\"Su promedio fue {promedio} aprobó\"\n",
    "        else:\n",
    "            mensaje = f\"Su promedio fue {promedio} no aprobó\"\n",
    "    else:\n",
    "        mensaje = \"Hay una o varias calificaciónes invalidas\"\n",
    "    return mensaje\n",
    "\n",
    "print(ejer7(3,5,6))"
   ]
  },
  {
   "cell_type": "markdown",
   "metadata": {},
   "source": [
    "## Ejercicio 8"
   ]
  },
  {
   "cell_type": "code",
   "execution_count": 37,
   "metadata": {},
   "outputs": [
    {
     "name": "stdout",
     "output_type": "stream",
     "text": [
      "El articulo tiene un precio final de 394000.0\n"
     ]
    }
   ],
   "source": [
    "def ejer8(valor_prod: int):\n",
    "    if valor_prod > 0 and valor_prod <= 100000:\n",
    "        descuento = 0\n",
    "    elif valor_prod > 100000 and valor_prod <=225000:\n",
    "        descuento = 0.015\n",
    "    elif valor_prod > 225000 and valor_prod <= 375000:\n",
    "        descuento = 0.038\n",
    "    else:\n",
    "        descuento = 0.015\n",
    "        \n",
    "    valor_total = valor_prod - (valor_prod * descuento)\n",
    "    mensaje = f\"El articulo tiene un precio final de {round(valor_total,2)}\"\n",
    "    return mensaje\n",
    "print(ejer8(400000))"
   ]
  },
  {
   "cell_type": "markdown",
   "metadata": {},
   "source": [
    "## Ejercicio 9\n"
   ]
  },
  {
   "cell_type": "code",
   "execution_count": 40,
   "metadata": {},
   "outputs": [
    {
     "name": "stdout",
     "output_type": "stream",
     "text": [
      "La ecuación cuadratica NO tiene solución\n"
     ]
    }
   ],
   "source": [
    "def ejer9(a: float, b: float, c: float):\n",
    "    calculo = (b ** 2) - 4*a*c\n",
    "    if calculo >= 0 and a != 0:\n",
    "        tiene_solución = \"si tiene solución\"\n",
    "    else:\n",
    "        tiene_solución = \"NO tiene solución\"\n",
    "    mensaje = f\"La ecuación cuadratica {tiene_solución}\"\n",
    "    return mensaje\n",
    "print(ejer9(0,8,3))"
   ]
  },
  {
   "cell_type": "markdown",
   "metadata": {},
   "source": [
    "## Ejercicio 10"
   ]
  },
  {
   "cell_type": "code",
   "execution_count": 72,
   "metadata": {},
   "outputs": [
    {
     "name": "stdout",
     "output_type": "stream",
     "text": [
      "20\n",
      "1\n",
      "1\n",
      "1\n",
      "0\n",
      "1.25\n",
      "0\n",
      "6\n",
      "1\n",
      "1.25\n",
      "<class 'float'>\n"
     ]
    },
    {
     "ename": "UnboundLocalError",
     "evalue": "local variable 'dian' referenced before assignment",
     "output_type": "error",
     "traceback": [
      "\u001b[1;31m---------------------------------------------------------------------------\u001b[0m",
      "\u001b[1;31mUnboundLocalError\u001b[0m                         Traceback (most recent call last)",
      "\u001b[1;32md:\\ARCHIVOS IMPORTANTES DEL COMPUTADOR!\\Desktop\\Mision-Tic-2022-Ejercicios-Ciclo-1\\EJERCICIOS-EN-CLASE\\CLASE-7\\TALLER-C7.ipynb Cell 20'\u001b[0m in \u001b[0;36m<cell line: 85>\u001b[1;34m()\u001b[0m\n\u001b[0;32m     <a href='vscode-notebook-cell:/d%3A/ARCHIVOS%20IMPORTANTES%20DEL%20COMPUTADOR%21/Desktop/Mision-Tic-2022-Ejercicios-Ciclo-1/EJERCICIOS-EN-CLASE/CLASE-7/TALLER-C7.ipynb#ch0000023?line=80'>81</a>\u001b[0m         dian \u001b[39m=\u001b[39m \u001b[39m\"\u001b[39m\u001b[39mSabado\u001b[39m\u001b[39m\"\u001b[39m\n\u001b[0;32m     <a href='vscode-notebook-cell:/d%3A/ARCHIVOS%20IMPORTANTES%20DEL%20COMPUTADOR%21/Desktop/Mision-Tic-2022-Ejercicios-Ciclo-1/EJERCICIOS-EN-CLASE/CLASE-7/TALLER-C7.ipynb#ch0000023?line=82'>83</a>\u001b[0m     \u001b[39mreturn\u001b[39;00m dian\n\u001b[1;32m---> <a href='vscode-notebook-cell:/d%3A/ARCHIVOS%20IMPORTANTES%20DEL%20COMPUTADOR%21/Desktop/Mision-Tic-2022-Ejercicios-Ciclo-1/EJERCICIOS-EN-CLASE/CLASE-7/TALLER-C7.ipynb#ch0000023?line=84'>85</a>\u001b[0m \u001b[39mprint\u001b[39m(calcular_dia_nacimiento(\u001b[39m\"\u001b[39;49m\u001b[39m2001-01-01\u001b[39;49m\u001b[39m\"\u001b[39;49m))\n",
      "\u001b[1;32md:\\ARCHIVOS IMPORTANTES DEL COMPUTADOR!\\Desktop\\Mision-Tic-2022-Ejercicios-Ciclo-1\\EJERCICIOS-EN-CLASE\\CLASE-7\\TALLER-C7.ipynb Cell 20'\u001b[0m in \u001b[0;36mcalcular_dia_nacimiento\u001b[1;34m(fechan)\u001b[0m\n\u001b[0;32m     <a href='vscode-notebook-cell:/d%3A/ARCHIVOS%20IMPORTANTES%20DEL%20COMPUTADOR%21/Desktop/Mision-Tic-2022-Ejercicios-Ciclo-1/EJERCICIOS-EN-CLASE/CLASE-7/TALLER-C7.ipynb#ch0000023?line=79'>80</a>\u001b[0m \u001b[39mif\u001b[39;00m R \u001b[39m==\u001b[39m \u001b[39m6\u001b[39m:\n\u001b[0;32m     <a href='vscode-notebook-cell:/d%3A/ARCHIVOS%20IMPORTANTES%20DEL%20COMPUTADOR%21/Desktop/Mision-Tic-2022-Ejercicios-Ciclo-1/EJERCICIOS-EN-CLASE/CLASE-7/TALLER-C7.ipynb#ch0000023?line=80'>81</a>\u001b[0m     dian \u001b[39m=\u001b[39m \u001b[39m\"\u001b[39m\u001b[39mSabado\u001b[39m\u001b[39m\"\u001b[39m\n\u001b[1;32m---> <a href='vscode-notebook-cell:/d%3A/ARCHIVOS%20IMPORTANTES%20DEL%20COMPUTADOR%21/Desktop/Mision-Tic-2022-Ejercicios-Ciclo-1/EJERCICIOS-EN-CLASE/CLASE-7/TALLER-C7.ipynb#ch0000023?line=82'>83</a>\u001b[0m \u001b[39mreturn\u001b[39;00m dian\n",
      "\u001b[1;31mUnboundLocalError\u001b[0m: local variable 'dian' referenced before assignment"
     ]
    }
   ],
   "source": [
    "def calcular_dia_nacimiento(fechan: str):\n",
    "    \"\"\"\n",
    "\n",
    "    Args:\n",
    "        fecha (str): Escriba la fecha de nacimiento de la siguiente forma:\n",
    "        \n",
    "        AAAA-MM-DD\n",
    "    \"\"\"\n",
    "    \n",
    "    siglo = int(fechan[0:2])\n",
    "    año = int(fechan[2:4])\n",
    "    mes = int(fechan[5:7])\n",
    "    dia = int(fechan[8:])\n",
    "    \n",
    "    print(siglo)\n",
    "    print(año)\n",
    "    print(mes)\n",
    "    print(dia)\n",
    "    # Hallo A\n",
    "    if siglo == 20:\n",
    "        pocision = 0\n",
    "        formula = 0\n",
    "    elif siglo < 20:\n",
    "        pocision = 20 - siglo\n",
    "        formula = (2*pocision) - 1\n",
    "    elif siglo > 20:\n",
    "        pocision = siglo - 20\n",
    "        formula = (-2*pocision)\n",
    "    \n",
    "    A = formula\n",
    "    print(A)\n",
    "    \n",
    "    # Hallo B\n",
    "    B = (año * 0.25) + año\n",
    "    print(B)\n",
    "    \n",
    "    # Hallo C\n",
    "    C = 0\n",
    "    if año % 4 == 0 or año == 0:\n",
    "        if mes == 2 or mes == 1:\n",
    "            C = -1\n",
    "        \n",
    "    print(C)\n",
    "    # Hallo D\n",
    "    if mes == 1 or mes == 10:\n",
    "        D = 6\n",
    "    if mes == 2 or mes == 3 or mes == 11:\n",
    "        D = 2\n",
    "    if mes == 4 or mes == 7:\n",
    "        D = 5\n",
    "    if mes == 5:\n",
    "        D = 0\n",
    "    if mes == 6:\n",
    "        D = 3\n",
    "    if mes == 8:\n",
    "        D = 1\n",
    "    if mes == 9 or mes == 12:\n",
    "        D = 4\n",
    "    print(D)\n",
    "    # Hallo E\n",
    "    E = dia\n",
    "    print(E)\n",
    "    # Hallo R\n",
    "    \n",
    "    R = (A + B + C + D + E) % 7\n",
    "    print(R)\n",
    "    print(type(R))\n",
    "    if R == 0:\n",
    "        dian = \"Domingo\"\n",
    "    if R == 1:\n",
    "        dian = \"Lunes\"\n",
    "    if R == 2:\n",
    "        dian = \"Martes\"\n",
    "    if R == 3:\n",
    "        dian = \"Miercoles\"\n",
    "    if R == 4:\n",
    "        dian = \"Jueves\"\n",
    "    if R == 5:\n",
    "        dian = \"Viernes\"\n",
    "    if R == 6:\n",
    "        dian = \"Sabado\"\n",
    "    \n",
    "    return dian\n",
    "    \n",
    "print(calcular_dia_nacimiento(\"2001-01-01\"))"
   ]
  },
  {
   "cell_type": "code",
   "execution_count": 41,
   "metadata": {},
   "outputs": [
    {
     "name": "stdout",
     "output_type": "stream",
     "text": [
      "2\n"
     ]
    }
   ],
   "source": [
    "mod = 37 % 7\n",
    "print(mod)"
   ]
  },
  {
   "cell_type": "code",
   "execution_count": null,
   "metadata": {},
   "outputs": [],
   "source": [
    "for i in range(1,21,2):\n",
    "    print(i)"
   ]
  },
  {
   "cell_type": "code",
   "execution_count": 52,
   "metadata": {},
   "outputs": [
    {
     "name": "stdout",
     "output_type": "stream",
     "text": [
      "No lo es\n"
     ]
    }
   ],
   "source": [
    "año = 2004\n",
    "if año % 4 == 0 and año % 100 == 0 and año % 400 == 0:\n",
    "    print(\"Es bisiesto\")\n",
    "else:\n",
    "    print(\"No lo es\")"
   ]
  }
 ],
 "metadata": {
  "interpreter": {
   "hash": "2deaf031474dc928cc85fe30425ff4c1d68960c32cdb004a5e00cb5abd07af61"
  },
  "kernelspec": {
   "display_name": "Python 3.10.4 64-bit",
   "language": "python",
   "name": "python3"
  },
  "language_info": {
   "codemirror_mode": {
    "name": "ipython",
    "version": 3
   },
   "file_extension": ".py",
   "mimetype": "text/x-python",
   "name": "python",
   "nbconvert_exporter": "python",
   "pygments_lexer": "ipython3",
   "version": "3.10.4"
  },
  "orig_nbformat": 4
 },
 "nbformat": 4,
 "nbformat_minor": 2
}
