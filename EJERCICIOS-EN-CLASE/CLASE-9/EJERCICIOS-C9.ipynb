{
 "cells": [
  {
   "cell_type": "code",
   "execution_count": 13,
   "metadata": {},
   "outputs": [
    {
     "name": "stdout",
     "output_type": "stream",
     "text": [
      "4\n",
      "3\n",
      "2\n",
      "1\n",
      "0\n",
      "None\n"
     ]
    }
   ],
   "source": [
    "def ejer1(numero: int):\n",
    "    while numero >= 0:\n",
    "        print(numero)\n",
    "        numero -= 1\n",
    "print(ejer1(4))\n",
    "        "
   ]
  },
  {
   "cell_type": "code",
   "execution_count": 18,
   "metadata": {},
   "outputs": [
    {
     "name": "stdout",
     "output_type": "stream",
     "text": [
      "\n",
      "*\n",
      "**\n",
      "***\n",
      "****\n",
      "*****\n",
      "None\n"
     ]
    }
   ],
   "source": [
    "def ejer2(numero:int):\n",
    "    for number in range(numero + 1):\n",
    "        print(\"*\"*number)\n",
    "        \n",
    "print(ejer2(5))"
   ]
  },
  {
   "cell_type": "code",
   "execution_count": 28,
   "metadata": {},
   "outputs": [
    {
     "name": "stdout",
     "output_type": "stream",
     "text": [
      "{1}\n",
      "{1, 3}\n",
      "{1, 3, 5}\n",
      "{1, 3, 5, 7}\n",
      "{1, 3, 5, 7, 9}\n",
      "None\n"
     ]
    }
   ],
   "source": [
    "def ejer3(numero: int):\n",
    "    lista = set()\n",
    "    for number in range(1,10,2):\n",
    "        lista.add(number)\n",
    "        print(lista)\n",
    "print(ejer3(5))    "
   ]
  },
  {
   "cell_type": "code",
   "execution_count": 2,
   "metadata": {},
   "outputs": [
    {
     "name": "stdout",
     "output_type": "stream",
     "text": [
      "hola\n",
      "que se dice pau\n",
      "djfjdkfd\n",
      "no se jajaja\n",
      "ahora xd\n",
      "None\n"
     ]
    }
   ],
   "source": [
    "def ejer4():\n",
    "    cosa = input(\"Ingresa cualquier cosa, escribe 'salir' para parar:\")\n",
    "    while cosa.upper() != 'SALIR':\n",
    "        print(cosa)\n",
    "        cosa = input(\"Ingresa cualquier cosa, escribe 'salir' para parar:\")\n",
    "print(ejer4())"
   ]
  },
  {
   "cell_type": "code",
   "execution_count": 14,
   "metadata": {},
   "outputs": [
    {
     "ename": "KeyError",
     "evalue": "0",
     "output_type": "error",
     "traceback": [
      "\u001b[1;31m---------------------------------------------------------------------------\u001b[0m",
      "\u001b[1;31mKeyError\u001b[0m                                  Traceback (most recent call last)",
      "\u001b[1;32md:\\ARCHIVOS IMPORTANTES DEL COMPUTADOR!\\Desktop\\Mision-Tic-2022-Ejercicios-Ciclo-1\\EJERCICIOS-EN-CLASE\\CLASE-9\\EJERCICIOS-C9.ipynb Cell 5'\u001b[0m in \u001b[0;36m<cell line: 21>\u001b[1;34m()\u001b[0m\n\u001b[0;32m     <a href='vscode-notebook-cell:/d%3A/ARCHIVOS%20IMPORTANTES%20DEL%20COMPUTADOR%21/Desktop/Mision-Tic-2022-Ejercicios-Ciclo-1/EJERCICIOS-EN-CLASE/CLASE-9/EJERCICIOS-C9.ipynb#ch0000004?line=17'>18</a>\u001b[0m             frase_español \u001b[39m+\u001b[39m\u001b[39m=\u001b[39m pala\n\u001b[0;32m     <a href='vscode-notebook-cell:/d%3A/ARCHIVOS%20IMPORTANTES%20DEL%20COMPUTADOR%21/Desktop/Mision-Tic-2022-Ejercicios-Ciclo-1/EJERCICIOS-EN-CLASE/CLASE-9/EJERCICIOS-C9.ipynb#ch0000004?line=18'>19</a>\u001b[0m     \u001b[39mreturn\u001b[39;00m frase_español\n\u001b[1;32m---> <a href='vscode-notebook-cell:/d%3A/ARCHIVOS%20IMPORTANTES%20DEL%20COMPUTADOR%21/Desktop/Mision-Tic-2022-Ejercicios-Ciclo-1/EJERCICIOS-EN-CLASE/CLASE-9/EJERCICIOS-C9.ipynb#ch0000004?line=20'>21</a>\u001b[0m ejer5()\n",
      "\u001b[1;32md:\\ARCHIVOS IMPORTANTES DEL COMPUTADOR!\\Desktop\\Mision-Tic-2022-Ejercicios-Ciclo-1\\EJERCICIOS-EN-CLASE\\CLASE-9\\EJERCICIOS-C9.ipynb Cell 5'\u001b[0m in \u001b[0;36mejer5\u001b[1;34m()\u001b[0m\n\u001b[0;32m     <a href='vscode-notebook-cell:/d%3A/ARCHIVOS%20IMPORTANTES%20DEL%20COMPUTADOR%21/Desktop/Mision-Tic-2022-Ejercicios-Ciclo-1/EJERCICIOS-EN-CLASE/CLASE-9/EJERCICIOS-C9.ipynb#ch0000004?line=14'>15</a>\u001b[0m     \u001b[39mif\u001b[39;00m recorrido \u001b[39min\u001b[39;00m diccionario:\n\u001b[0;32m     <a href='vscode-notebook-cell:/d%3A/ARCHIVOS%20IMPORTANTES%20DEL%20COMPUTADOR%21/Desktop/Mision-Tic-2022-Ejercicios-Ciclo-1/EJERCICIOS-EN-CLASE/CLASE-9/EJERCICIOS-C9.ipynb#ch0000004?line=15'>16</a>\u001b[0m         ubicacion \u001b[39m=\u001b[39m recorrido\u001b[39m.\u001b[39mindex(recorrido)\n\u001b[1;32m---> <a href='vscode-notebook-cell:/d%3A/ARCHIVOS%20IMPORTANTES%20DEL%20COMPUTADOR%21/Desktop/Mision-Tic-2022-Ejercicios-Ciclo-1/EJERCICIOS-EN-CLASE/CLASE-9/EJERCICIOS-C9.ipynb#ch0000004?line=16'>17</a>\u001b[0m         pala \u001b[39m=\u001b[39m diccionario[ubicacion]\n\u001b[0;32m     <a href='vscode-notebook-cell:/d%3A/ARCHIVOS%20IMPORTANTES%20DEL%20COMPUTADOR%21/Desktop/Mision-Tic-2022-Ejercicios-Ciclo-1/EJERCICIOS-EN-CLASE/CLASE-9/EJERCICIOS-C9.ipynb#ch0000004?line=17'>18</a>\u001b[0m         frase_español \u001b[39m+\u001b[39m\u001b[39m=\u001b[39m pala\n\u001b[0;32m     <a href='vscode-notebook-cell:/d%3A/ARCHIVOS%20IMPORTANTES%20DEL%20COMPUTADOR%21/Desktop/Mision-Tic-2022-Ejercicios-Ciclo-1/EJERCICIOS-EN-CLASE/CLASE-9/EJERCICIOS-C9.ipynb#ch0000004?line=18'>19</a>\u001b[0m \u001b[39mreturn\u001b[39;00m frase_español\n",
      "\u001b[1;31mKeyError\u001b[0m: 0"
     ]
    }
   ],
   "source": [
    "def ejer5():\n",
    "    diccionario = {}\n",
    "    palabra = input(\"Ingresa tu palabra: \")\n",
    "    while palabra != '1':\n",
    "        p_puntos = palabra.find(\":\")\n",
    "        español = palabra[0:p_puntos]\n",
    "        ingles = palabra[p_puntos+1:]\n",
    "        diccionario[español] = ingles\n",
    "        palabra = input(\"Ingresa tu palabra: \")\n",
    "    frase = input(\"Ingresa una frase para traducir: \")\n",
    "    frase = frase.upper()\n",
    "    lista_fra = frase.split()\n",
    "    frase_español = \"\"\n",
    "    for recorrido in lista_fra:\n",
    "        if recorrido in diccionario:\n",
    "            ubicacion = recorrido.index(recorrido)\n",
    "            pala = diccionario[ubicacion]\n",
    "            frase_español += pala\n",
    "    return frase_español\n",
    "\n",
    "ejer5()\n",
    "        "
   ]
  },
  {
   "cell_type": "code",
   "execution_count": 8,
   "metadata": {},
   "outputs": [
    {
     "name": "stdout",
     "output_type": "stream",
     "text": [
      "['pepe', 'es', 'un', 'pendejo']\n"
     ]
    }
   ],
   "source": [
    "frase = \"pepe es un pendejo\"\n",
    "lista_fra = frase.split()\n",
    "print(lista_fra)"
   ]
  },
  {
   "cell_type": "code",
   "execution_count": 10,
   "metadata": {},
   "outputs": [
    {
     "name": "stdout",
     "output_type": "stream",
     "text": [
      "['__add__', '__class__', '__class_getitem__', '__contains__', '__delattr__', '__delitem__', '__dir__', '__doc__', '__eq__', '__format__', '__ge__', '__getattribute__', '__getitem__', '__gt__', '__hash__', '__iadd__', '__imul__', '__init__', '__init_subclass__', '__iter__', '__le__', '__len__', '__lt__', '__mul__', '__ne__', '__new__', '__reduce__', '__reduce_ex__', '__repr__', '__reversed__', '__rmul__', '__setattr__', '__setitem__', '__sizeof__', '__str__', '__subclasshook__', 'append', 'clear', 'copy', 'count', 'extend', 'index', 'insert', 'pop', 'remove', 'reverse', 'sort']\n"
     ]
    }
   ],
   "source": [
    "print(dir(list))"
   ]
  }
 ],
 "metadata": {
  "kernelspec": {
   "display_name": "Python 3.10.4 64-bit",
   "language": "python",
   "name": "python3"
  },
  "language_info": {
   "codemirror_mode": {
    "name": "ipython",
    "version": 3
   },
   "file_extension": ".py",
   "mimetype": "text/x-python",
   "name": "python",
   "nbconvert_exporter": "python",
   "pygments_lexer": "ipython3",
   "version": "3.10.4"
  },
  "orig_nbformat": 4,
  "vscode": {
   "interpreter": {
    "hash": "2deaf031474dc928cc85fe30425ff4c1d68960c32cdb004a5e00cb5abd07af61"
   }
  }
 },
 "nbformat": 4,
 "nbformat_minor": 2
}
