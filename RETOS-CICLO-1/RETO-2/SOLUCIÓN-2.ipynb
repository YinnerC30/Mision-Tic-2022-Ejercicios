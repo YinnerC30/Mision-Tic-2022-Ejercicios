{
 "cells": [
  {
   "cell_type": "code",
   "execution_count": 1,
   "metadata": {},
   "outputs": [
    {
     "name": "stdout",
     "output_type": "stream",
     "text": [
      "{'nombre': 'Tatiana Ruiz', 'edad': 8, 'atraccion': 'Sillas voladoras', 'apto': True, 'primer_ingreso': False, 'total_boleta': 10000}\n"
     ]
    }
   ],
   "source": [
    "\n",
    "\n",
    "def cliente (informacion: dict):\n",
    "        \n",
    "    if informacion['edad'] > 18:\n",
    "        apto = True\n",
    "        atraccion = 'X-Treme'        \n",
    "        if informacion['primer_ingreso'] == True:\n",
    "            descuento = 20000 * 0.05\n",
    "            total_boleta = 20000 - descuento\n",
    "        else:\n",
    "            total_boleta = 20000\n",
    "        \n",
    "    elif informacion['edad'] >= 15 and informacion['edad'] <=18:\n",
    "        apto = True\n",
    "        atraccion = 'Carros chocones'        \n",
    "        if informacion['primer_ingreso'] == True:\n",
    "            descuento = 5000 * 0.07\n",
    "            total_boleta = 5000 - descuento\n",
    "        else:\n",
    "            total_boleta = 5000\n",
    "    \n",
    "    elif informacion['edad'] >= 7 and informacion['edad'] < 15:\n",
    "        apto = True\n",
    "        atraccion = 'Sillas voladoras'        \n",
    "        if informacion['primer_ingreso'] == True:\n",
    "            descuento = 10000 * 0.05\n",
    "            total_boleta = 10000 - descuento\n",
    "        else:\n",
    "            total_boleta = 10000\n",
    "    else:\n",
    "        apto = False\n",
    "        atraccion = 'N/A'\n",
    "        total_boleta = 'N/A'\n",
    "        \n",
    "    mensaje = {\n",
    "        'nombre': informacion['nombre'],\n",
    "        'edad': informacion['edad'],\n",
    "        'atraccion' : atraccion,\n",
    "        'apto' : apto,\n",
    "        'primer_ingreso' : informacion['primer_ingreso'],\n",
    "        'total_boleta' : total_boleta\n",
    "        }\n",
    "        \n",
    "    return mensaje\n",
    "\n",
    "informacion = {\n",
    "        'id_cliente' : 4,\n",
    "        'nombre' : \"Tatiana Ruiz\",\n",
    "        'edad' : 8,\n",
    "        'primer_ingreso' : False\n",
    "    } \n",
    "\n",
    "print(cliente(informacion))    \n"
   ]
  }
 ],
 "metadata": {
  "interpreter": {
   "hash": "2deaf031474dc928cc85fe30425ff4c1d68960c32cdb004a5e00cb5abd07af61"
  },
  "kernelspec": {
   "display_name": "Python 3.10.4 64-bit",
   "language": "python",
   "name": "python3"
  },
  "language_info": {
   "codemirror_mode": {
    "name": "ipython",
    "version": 3
   },
   "file_extension": ".py",
   "mimetype": "text/x-python",
   "name": "python",
   "nbconvert_exporter": "python",
   "pygments_lexer": "ipython3",
   "version": "3.10.4"
  },
  "orig_nbformat": 4
 },
 "nbformat": 4,
 "nbformat_minor": 2
}
