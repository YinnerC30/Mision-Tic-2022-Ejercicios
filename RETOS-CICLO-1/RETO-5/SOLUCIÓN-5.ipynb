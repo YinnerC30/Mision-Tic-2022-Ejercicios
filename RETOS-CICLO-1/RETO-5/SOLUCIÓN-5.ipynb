{
 "cells": [
  {
   "cell_type": "code",
   "execution_count": 7,
   "metadata": {},
   "outputs": [
    {
     "name": "stdout",
     "output_type": "stream",
     "text": [
      "                           Gross Earnings\n",
      "Country        Language                  \n",
      "Aruba          English       1.007614e+07\n",
      "Australia      English       3.367852e+07\n",
      "Brazil         Portuguese    5.595428e+06\n",
      "Canada         English       1.771869e+07\n",
      "               French        9.473382e+06\n",
      "China          English       4.398423e+07\n",
      "Czech Republic English       2.060953e+06\n",
      "Denmark        Danish        1.647780e+06\n",
      "               English       2.221994e+06\n",
      "France         English       1.876274e+07\n"
     ]
    }
   ],
   "source": [
    "import pandas as pd\n",
    "# ruta file csv\n",
    "rutaFileCsv =\"https://github.com/luisguillermomolero/MisionTIC2022_2/blob/master/Modulo1_Python_MisionTIC2022_Main/Semana_5/Reto/movies.csv?raw=true\"\n",
    "\n",
    "def listaPeliculas(rutaFileCsv: str) -> str:\n",
    "    if rutaFileCsv.split(\".\")[-1] != \"csv\":\n",
    "        try:\n",
    "            archivo_csv = pd.read_csv(rutaFileCsv)\n",
    "            sub_grupo_peliculas = archivo_csv[[\"Country\",\"Language\",\"Gross Earnings\"]]\n",
    "            ganancias_pais_lenguaje = sub_grupo_peliculas.pivot_table(index=[\"Country\",\"Language\"])\n",
    "            return ganancias_pais_lenguaje.head(10)\n",
    "        except:\n",
    "            print(\"Error al leer el archivo de datos.\")\n",
    "    else:\n",
    "        print(\"Extensión inválida.\")\n",
    "        \n",
    "print(listaPeliculas(rutaFileCsv))"
   ]
  }
 ],
 "metadata": {
  "kernelspec": {
   "display_name": "Python 3.9.7 ('base')",
   "language": "python",
   "name": "python3"
  },
  "language_info": {
   "codemirror_mode": {
    "name": "ipython",
    "version": 3
   },
   "file_extension": ".py",
   "mimetype": "text/x-python",
   "name": "python",
   "nbconvert_exporter": "python",
   "pygments_lexer": "ipython3",
   "version": "3.9.7"
  },
  "orig_nbformat": 4,
  "vscode": {
   "interpreter": {
    "hash": "ad2bdc8ecc057115af97d19610ffacc2b4e99fae6737bb82f5d7fb13d2f2c186"
   }
  }
 },
 "nbformat": 4,
 "nbformat_minor": 2
}
