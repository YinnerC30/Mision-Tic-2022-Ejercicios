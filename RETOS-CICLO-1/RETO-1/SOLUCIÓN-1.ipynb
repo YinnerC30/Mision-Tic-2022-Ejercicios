{
 "cells": [
  {
   "cell_type": "code",
   "execution_count": 1,
   "metadata": {},
   "outputs": [
    {
     "name": "stdout",
     "output_type": "stream",
     "text": [
      "Para el usuario AB1012 La cantidad de dinero a recibir, según el monto inicial 1000000 para un tiempo de 3 meses es: 1007500.0\n",
      "Para el usuario QW3456 La cantidad de dinero a recibir, según el monto inicial 5000000 para un tiempo de 2 meses es: 4900000.0\n"
     ]
    }
   ],
   "source": [
    "def CDT (usuario : str , capital : int , tiempo : int):\n",
    "    \"\"\"\n",
    "    CDT\n",
    "    Calculador del valor de los intereses ganados o perdidos y el total final de dinero para diferentes clientes.\n",
    "    \n",
    "    Parametros:\n",
    "    - usuario : identifica el nombre del usuario.\n",
    "    - capital : identifica la cantidad de dinero a consultar.\n",
    "    - tiempo: identifica la cantidad de tiempo de duración del CDT.\n",
    "    \n",
    "    Retorna:\n",
    "    El nombre del usuario, la cantidad de dinero a recibir segun el monto inicial, acompañado de la cantidad de tiempo de duración que tuvo el CDT.\n",
    "    \"\"\"\n",
    "    porcentaje_interes = 0.03\n",
    "    porcentaje_perdida = 0.02\n",
    "    if tiempo > 2:\n",
    "        valor_intereses = (capital * porcentaje_interes * tiempo)/12\n",
    "        valor_total = capital + valor_intereses\n",
    "    else:\n",
    "        valor_perder = capital * porcentaje_perdida\n",
    "        valor_total = capital - valor_perder \n",
    "    return (f\"Para el usuario {usuario} La cantidad de dinero a recibir, según el monto inicial {capital} para un tiempo de {tiempo} meses es: {valor_total}\")\n",
    "\n",
    "print(CDT(\"AB1012\",1000000,3))\n",
    "print(CDT(\"QW3456\",5000000,2)) "
   ]
  }
 ],
 "metadata": {
  "interpreter": {
   "hash": "2deaf031474dc928cc85fe30425ff4c1d68960c32cdb004a5e00cb5abd07af61"
  },
  "kernelspec": {
   "display_name": "Python 3.10.4 64-bit",
   "language": "python",
   "name": "python3"
  },
  "language_info": {
   "codemirror_mode": {
    "name": "ipython",
    "version": 3
   },
   "file_extension": ".py",
   "mimetype": "text/x-python",
   "name": "python",
   "nbconvert_exporter": "python",
   "pygments_lexer": "ipython3",
   "version": "3.10.4"
  },
  "orig_nbformat": 4
 },
 "nbformat": 4,
 "nbformat_minor": 2
}
