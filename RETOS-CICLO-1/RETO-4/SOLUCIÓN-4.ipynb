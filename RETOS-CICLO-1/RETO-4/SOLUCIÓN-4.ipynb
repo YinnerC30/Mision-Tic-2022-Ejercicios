{
 "cells": [
  {
   "cell_type": "code",
   "execution_count": 5,
   "metadata": {},
   "outputs": [
    {
     "name": "stdout",
     "output_type": "stream",
     "text": [
      "<class 'list'>\n",
      "4\n"
     ]
    }
   ],
   "source": [
    "rutinaContable = [ \n",
    "    [1201, (\"5464\", 4, 25842.99), (\"7854\",18,23254.99), (\"8521\", 9, 48951.95)],\n",
    "    [1202, (\"8756\", 3, 115362.58),(\"1112\",18,2354.99)],\n",
    "    [1203, (\"2547\", 1, 125698.20), (\"2635\", 2, 135645.20), (\"1254\", 1, 13645.20),(\"9965\", 5, 1645.20)],\n",
    "    [1204, (\"9635\", 7, 11.99), (\"7733\",11,18.99), (\"88112\", 5, 390.95)]\n",
    "    ]\n",
    "\n",
    "print(type(rutinaContable))\n",
    "print(len(rutinaContable))\n"
   ]
  },
  {
   "cell_type": "code",
   "execution_count": 9,
   "metadata": {},
   "outputs": [
    {
     "name": "stdout",
     "output_type": "stream",
     "text": [
      "----------------- Inicio Registro diario --------------------------\n",
      "La factura 1201 tiene un total en pesos de 962529.33\n",
      "La factura 1202 tiene un total en pesos de 413477.56\n",
      "La factura 1203 tiene un total en pesos de 443859.8\n",
      "La factura 1204 tiene un total en pesos de 27247.57\n",
      "----------------- Fin Registro diario -----------------------------\n"
     ]
    }
   ],
   "source": [
    "rutinaContable = [ \n",
    "    [1201, (\"5464\", 4, 25842.99), (\"7854\",18,23254.99), (\"8521\", 9, 48951.95)],\n",
    "    [1202, (\"8756\", 3, 115362.58),(\"1112\",18,2354.99)],\n",
    "    [1203, (\"2547\", 1, 125698.20), (\"2635\", 2, 135645.20), (\"1254\", 1, 13645.20),(\"9965\", 5, 1645.20)],\n",
    "    [1204, (\"9635\", 7, 11.99), (\"7733\",11,18.99), (\"88112\", 5, 390.95)]\n",
    "    ]\n",
    "\n",
    "def ordenes(rutinaContable):\n",
    "    from functools import reduce\n",
    "    \n",
    "    orden_minima = 600000\n",
    "    total_cada_tu_li = list(map(lambda z: [z[0]] + list(map(lambda t: t[1]*t[2],z[1:])), rutinaContable))\n",
    "    \n",
    "    total_cada_tu_li = list(map(lambda z:[z[0]] + [reduce(lambda a,b: round(a+b,2), z[1:])], total_cada_tu_li))\n",
    "    \n",
    "    total_cada_tu_li = list(map(lambda z : z if z [1] >= orden_minima else (z[0] , z[1]+25000), total_cada_tu_li))\n",
    "    \n",
    "    print('----------------- Inicio Registro diario --------------------------')\n",
    "    for i in range(len(total_cada_tu_li)):\n",
    "        print(f\"La factura {total_cada_tu_li[i][0]} tiene un total en pesos de {total_cada_tu_li[i][1]}\")\n",
    "    print('----------------- Fin Registro diario -----------------------------')\n",
    "\n",
    "\n",
    "    \n",
    "    \n",
    "ordenes(rutinaContable)"
   ]
  },
  {
   "cell_type": "code",
   "execution_count": 1,
   "metadata": {},
   "outputs": [
    {
     "name": "stdout",
     "output_type": "stream",
     "text": [
      "------------------------ Inicio Registro diario ---------------------------------\n",
      "La factura 1201 tiene un total en pesos de 962,529.33\n",
      "La factura 1202 tiene un total en pesos de 413,477.56\n",
      "La factura 1203 tiene un total en pesos de 443,859.80\n",
      "La factura 1204 tiene un total en pesos de 27,247.57\n",
      "-------------------------- Fin Registro diario ----------------------------------\n"
     ]
    }
   ],
   "source": [
    "def ordenes(rutinaContable):\n",
    "    from functools import reduce\n",
    "    \n",
    "    orden_minima = 600000\n",
    "    total_cada_tu_li = list(map(lambda z: [z[0]] + list(map(lambda t: t[1]*t[2],z[1:])), rutinaContable))\n",
    "    \n",
    "    total_cada_tu_li = list(map(lambda z:[z[0]] + [reduce(lambda a,b: round(a+b,2), z[1:])], total_cada_tu_li))\n",
    "    \n",
    "    total_cada_tu_li = list(map(lambda z : z if z [1] >= orden_minima else (z[0] , z[1]+25000), total_cada_tu_li))\n",
    "    \n",
    "    print('------------------------ Inicio Registro diario ---------------------------------')\n",
    "    for i in range(len(total_cada_tu_li)):\n",
    "        print(f\"La factura {total_cada_tu_li[i][0]} tiene un total en pesos de {total_cada_tu_li[i][1]:,.2f}\")\n",
    "    print('-------------------------- Fin Registro diario ----------------------------------')\n",
    "    \n",
    "rutinaContable = [ \n",
    "    [1201, (\"5464\", 4, 25842.99), (\"7854\",18,23254.99), (\"8521\", 9, 48951.95)],\n",
    "    [1202, (\"8756\", 3, 115362.58),(\"1112\",18,2354.99)],\n",
    "    [1203, (\"2547\", 1, 125698.20), (\"2635\", 2, 135645.20), (\"1254\", 1, 13645.20),(\"9965\", 5, 1645.20)],\n",
    "    [1204, (\"9635\", 7, 11.99), (\"7733\",11,18.99), (\"88112\", 5, 390.95)]\n",
    "    ]\n",
    "\n",
    "ordenes(rutinaContable)"
   ]
  }
 ],
 "metadata": {
  "interpreter": {
   "hash": "2deaf031474dc928cc85fe30425ff4c1d68960c32cdb004a5e00cb5abd07af61"
  },
  "kernelspec": {
   "display_name": "Python 3.10.4 64-bit",
   "language": "python",
   "name": "python3"
  },
  "language_info": {
   "codemirror_mode": {
    "name": "ipython",
    "version": 3
   },
   "file_extension": ".py",
   "mimetype": "text/x-python",
   "name": "python",
   "nbconvert_exporter": "python",
   "pygments_lexer": "ipython3",
   "version": "3.10.4"
  },
  "orig_nbformat": 4
 },
 "nbformat": 4,
 "nbformat_minor": 2
}
