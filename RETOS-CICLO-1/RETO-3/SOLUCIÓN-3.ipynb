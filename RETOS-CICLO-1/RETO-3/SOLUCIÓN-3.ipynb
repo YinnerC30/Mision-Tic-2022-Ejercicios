{
 "cells": [
  {
   "cell_type": "code",
   "execution_count": 1,
   "metadata": {},
   "outputs": [
    {
     "name": "stdout",
     "output_type": "stream",
     "text": [
      "Producto consultado : 2010  Descripción bujía  #Parte MS9512 Cantidad vendida 4 Stock 15 Comprador Carlos Rondon Documento 1256 Fecha Venta 12/06/2020\n",
      "Producto consultado : 2010  Descripción bujía  #Parte ER6523 Cantidad vendida 9 Stock 36 Comprador Pedro Montes Documento 1243 Fecha Venta 12/06/2020\n",
      "\n"
     ]
    }
   ],
   "source": [
    "def AutoPartes(ventas: list): \n",
    "    nuevodiccionario = {}\n",
    "    for idProducto, dProducto, pnProducto, cvProducto,sProducto,nComprador, cComprador, fVenta in ventas:\n",
    "        if nuevodiccionario.get(idProducto) == None:\n",
    "            nuevodiccionario[idProducto] = []\n",
    "        nuevodiccionario[idProducto].append((dProducto,pnProducto,cvProducto,sProducto,nComprador,cComprador,fVenta))\n",
    "    return nuevodiccionario\n",
    "\n",
    "def consultaRegistro(ventas, idProducto):\n",
    "    if idProducto in ventas:\n",
    "        for dProducto, pnProducto, cvProducto,sProducto, nComprador, cComprador, fVenta in ventas[idProducto]:\n",
    "            print(\"Producto consultado :\",idProducto,\" Descripción\", dProducto,\" #Parte\", pnProducto, \"Cantidad vendida\", cvProducto, \"Stock\", sProducto, \"Comprador\",nComprador, \"Documento\", cComprador, \"Fecha Venta\", fVenta)\n",
    "    else:\n",
    "        print(\"No hay registro de venta de ese producto\")\n",
    "        \n",
    "\t\n",
    "consultaRegistro(AutoPartes([\n",
    "    (2001,'rosca', 'PT29872',2,45,'Luis Molero',3456,'12/06/2020'),\n",
    "    (2010,'bujía', 'MS9512',4,15,'Carlos Rondon',1256,'12/06/2020'),\n",
    "    (2010,'bujía', 'ER6523',9,36,'Pedro Montes',1243,'12/06/2020'),\n",
    "    (3578,'tijera', 'QW8523',1,128,'Pedro Faria',1456,'12/06/2020'),\n",
    "    (9251,'piñón', 'EN5698',2,8,'Juan Peña',565,'12/06/2020')]), 2010)\n",
    "print()"
   ]
  }
 ],
 "metadata": {
  "interpreter": {
   "hash": "2deaf031474dc928cc85fe30425ff4c1d68960c32cdb004a5e00cb5abd07af61"
  },
  "kernelspec": {
   "display_name": "Python 3.10.4 64-bit",
   "language": "python",
   "name": "python3"
  },
  "language_info": {
   "codemirror_mode": {
    "name": "ipython",
    "version": 3
   },
   "file_extension": ".py",
   "mimetype": "text/x-python",
   "name": "python",
   "nbconvert_exporter": "python",
   "pygments_lexer": "ipython3",
   "version": "3.10.4"
  },
  "orig_nbformat": 4
 },
 "nbformat": 4,
 "nbformat_minor": 2
}
