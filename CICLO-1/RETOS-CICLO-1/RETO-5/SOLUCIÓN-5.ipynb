{
 "cells": [
  {
   "cell_type": "code",
   "execution_count": 1,
   "metadata": {},
   "outputs": [
    {
     "ename": "ModuleNotFoundError",
     "evalue": "No module named 'pandas'",
     "output_type": "error",
     "traceback": [
      "\u001b[1;31m---------------------------------------------------------------------------\u001b[0m",
      "\u001b[1;31mModuleNotFoundError\u001b[0m                       Traceback (most recent call last)",
      "\u001b[1;32md:\\ARCHIVOS IMPORTANTES DEL COMPUTADOR!\\Desktop\\Otros\\Mision-Tic-2022-Ejercicios-Ciclo-1\\RETOS-CICLO-1\\RETO-5\\SOLUCIÓN-5.ipynb Cell 1'\u001b[0m in \u001b[0;36m<cell line: 1>\u001b[1;34m()\u001b[0m\n\u001b[1;32m----> <a href='vscode-notebook-cell:/d%3A/ARCHIVOS%20IMPORTANTES%20DEL%20COMPUTADOR%21/Desktop/Otros/Mision-Tic-2022-Ejercicios-Ciclo-1/RETOS-CICLO-1/RETO-5/SOLUCI%C3%93N-5.ipynb#ch0000000?line=0'>1</a>\u001b[0m \u001b[39mimport\u001b[39;00m \u001b[39mpandas\u001b[39;00m \u001b[39mas\u001b[39;00m \u001b[39mpd\u001b[39;00m\n\u001b[0;32m      <a href='vscode-notebook-cell:/d%3A/ARCHIVOS%20IMPORTANTES%20DEL%20COMPUTADOR%21/Desktop/Otros/Mision-Tic-2022-Ejercicios-Ciclo-1/RETOS-CICLO-1/RETO-5/SOLUCI%C3%93N-5.ipynb#ch0000000?line=1'>2</a>\u001b[0m \u001b[39m# ruta file csv\u001b[39;00m\n\u001b[0;32m      <a href='vscode-notebook-cell:/d%3A/ARCHIVOS%20IMPORTANTES%20DEL%20COMPUTADOR%21/Desktop/Otros/Mision-Tic-2022-Ejercicios-Ciclo-1/RETOS-CICLO-1/RETO-5/SOLUCI%C3%93N-5.ipynb#ch0000000?line=2'>3</a>\u001b[0m rutaFileCsv \u001b[39m=\u001b[39m\u001b[39m\"\u001b[39m\u001b[39mhttps://github.com/luisguillermomolero/MisionTIC2022_2/blob/master/Modulo1_Python_MisionTIC2022_Main/Semana_5/Reto/movies.csv?raw=true\u001b[39m\u001b[39m\"\u001b[39m\n",
      "\u001b[1;31mModuleNotFoundError\u001b[0m: No module named 'pandas'"
     ]
    }
   ],
   "source": [
    "import pandas as pd\n",
    "# ruta file csv\n",
    "rutaFileCsv =\"https://github.com/luisguillermomolero/MisionTIC2022_2/blob/master/Modulo1_Python_MisionTIC2022_Main/Semana_5/Reto/movies.csv?raw=true\"\n",
    "\n",
    "def listaPeliculas(rutaFileCsv: str) -> str:\n",
    "    if rutaFileCsv.split(\".\")[-1] != \"csv\":\n",
    "        try:\n",
    "            archivo_csv = pd.read_csv(rutaFileCsv)\n",
    "            sub_grupo_peliculas = archivo_csv[[\"Country\",\"Language\",\"Gross Earnings\"]]\n",
    "            ganancias_pais_lenguaje = sub_grupo_peliculas.pivot_table(index=[\"Country\",\"Language\"])\n",
    "            return ganancias_pais_lenguaje.head(10)\n",
    "        except:\n",
    "            print(\"Error al leer el archivo de datos.\")\n",
    "    else:\n",
    "        print(\"Extensión inválida.\")\n",
    "        \n",
    "print(listaPeliculas(rutaFileCsv))"
   ]
  }
 ],
 "metadata": {
  "kernelspec": {
   "display_name": "Python 3.10.4 64-bit",
   "language": "python",
   "name": "python3"
  },
  "language_info": {
   "codemirror_mode": {
    "name": "ipython",
    "version": 3
   },
   "file_extension": ".py",
   "mimetype": "text/x-python",
   "name": "python",
   "nbconvert_exporter": "python",
   "pygments_lexer": "ipython3",
   "version": "3.10.4"
  },
  "orig_nbformat": 4,
  "vscode": {
   "interpreter": {
    "hash": "2deaf031474dc928cc85fe30425ff4c1d68960c32cdb004a5e00cb5abd07af61"
   }
  }
 },
 "nbformat": 4,
 "nbformat_minor": 2
}
