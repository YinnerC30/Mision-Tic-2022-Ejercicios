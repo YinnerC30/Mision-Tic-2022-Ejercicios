{
 "cells": [
  {
   "cell_type": "code",
   "execution_count": 13,
   "metadata": {},
   "outputs": [
    {
     "name": "stdout",
     "output_type": "stream",
     "text": [
      "4\n",
      "3\n",
      "2\n",
      "1\n",
      "0\n",
      "None\n"
     ]
    }
   ],
   "source": [
    "def ejer1(numero: int):\n",
    "    while numero >= 0:\n",
    "        print(numero)\n",
    "        numero -= 1\n",
    "print(ejer1(4))\n",
    "        "
   ]
  },
  {
   "cell_type": "code",
   "execution_count": 18,
   "metadata": {},
   "outputs": [
    {
     "name": "stdout",
     "output_type": "stream",
     "text": [
      "\n",
      "*\n",
      "**\n",
      "***\n",
      "****\n",
      "*****\n",
      "None\n"
     ]
    }
   ],
   "source": [
    "def ejer2(numero:int):\n",
    "    for number in range(numero + 1):\n",
    "        print(\"*\"*number)\n",
    "        \n",
    "print(ejer2(5))"
   ]
  },
  {
   "cell_type": "code",
   "execution_count": 28,
   "metadata": {},
   "outputs": [
    {
     "name": "stdout",
     "output_type": "stream",
     "text": [
      "{1}\n",
      "{1, 3}\n",
      "{1, 3, 5}\n",
      "{1, 3, 5, 7}\n",
      "{1, 3, 5, 7, 9}\n",
      "None\n"
     ]
    }
   ],
   "source": [
    "def ejer3(numero: int):\n",
    "    lista = set()\n",
    "    for number in range(1,10,2):\n",
    "        lista.add(number)\n",
    "        print(lista)\n",
    "print(ejer3(5))    "
   ]
  },
  {
   "cell_type": "code",
   "execution_count": 2,
   "metadata": {},
   "outputs": [
    {
     "name": "stdout",
     "output_type": "stream",
     "text": [
      "hola\n",
      "que se dice pau\n",
      "djfjdkfd\n",
      "no se jajaja\n",
      "ahora xd\n",
      "None\n"
     ]
    }
   ],
   "source": [
    "def ejer4():\n",
    "    cosa = input(\"Ingresa cualquier cosa, escribe 'salir' para parar:\")\n",
    "    while cosa.upper() != 'SALIR':\n",
    "        print(cosa)\n",
    "        cosa = input(\"Ingresa cualquier cosa, escribe 'salir' para parar:\")\n",
    "print(ejer4())"
   ]
  },
  {
   "cell_type": "code",
   "execution_count": 2,
   "metadata": {},
   "outputs": [
    {
     "data": {
      "text/plain": [
       "''"
      ]
     },
     "execution_count": 2,
     "metadata": {},
     "output_type": "execute_result"
    }
   ],
   "source": [
    "def ejer5():\n",
    "    diccionario = {}\n",
    "    palabra = input(\"Ingresa tu palabra: \")\n",
    "    while palabra != '1':\n",
    "        p_puntos = palabra.find(\":\")\n",
    "        español = palabra[0:p_puntos]\n",
    "        ingles = palabra[p_puntos+1:]\n",
    "        diccionario[español] = ingles\n",
    "        palabra = input(\"Ingresa tu palabra: \")\n",
    "    frase = input(\"Ingresa una frase para traducir: \")\n",
    "    frase = frase.upper()\n",
    "    lista_fra = frase.split()\n",
    "    frase_español = \"\"\n",
    "    for recorrido in lista_fra:\n",
    "        if recorrido in diccionario:\n",
    "            ubicacion = recorrido.index(recorrido)\n",
    "            print(diccionario[ubicacion])\n",
    "    return frase_español\n",
    "\n",
    "ejer5()\n",
    "        "
   ]
  },
  {
   "cell_type": "code",
   "execution_count": 8,
   "metadata": {},
   "outputs": [
    {
     "name": "stdout",
     "output_type": "stream",
     "text": [
      "['pepe', 'es', 'un', 'pendejo']\n"
     ]
    }
   ],
   "source": [
    "frase = \"pepe es un pendejo\"\n",
    "lista_fra = frase.split()\n",
    "print(lista_fra)"
   ]
  },
  {
   "cell_type": "code",
   "execution_count": 21,
   "metadata": {},
   "outputs": [
    {
     "name": "stdout",
     "output_type": "stream",
     "text": [
      "Lista de compra\n",
      "------------------------------\n",
      "sal \t\t\t 1000\n",
      "------------------------------\n",
      "Total \t\t\t 1000\n"
     ]
    }
   ],
   "source": [
    "def ejer6():\n",
    "    cesta = {}\n",
    "    while True:\n",
    "        continuar = input(\"¿Desea continuar? S/N \")\n",
    "        if continuar.upper() == \"S\":\n",
    "            articulo = input(\"Ingrese el nombre de su articulo: \")\n",
    "            precio = int(input(\"Ingrese el valor del producto: \"))\n",
    "            cesta[articulo] = precio\n",
    "        else:\n",
    "            break\n",
    "    print(\"Lista de compra\")\n",
    "    print(\"-\"*30)\n",
    "    for producto in cesta:\n",
    "        print(producto, \"\\t\"*3,cesta[producto])\n",
    "        print(\"-\"*30)\n",
    "\n",
    "    total = 0\n",
    "    for totales in cesta.values():\n",
    "        total += totales\n",
    "    print(\"Total\", \"\\t\"*3 ,total)\n",
    "ejer6()\n",
    "\n",
    "    "
   ]
  },
  {
   "cell_type": "code",
   "execution_count": 23,
   "metadata": {},
   "outputs": [
    {
     "name": "stdout",
     "output_type": "stream",
     "text": [
      "Yo estudio matematicas\n",
      "Yo estudio fisica\n",
      "Yo estudio quimica\n",
      "Yo estudio historia\n",
      "Yo estudio lenguaje\n",
      "None\n"
     ]
    }
   ],
   "source": [
    "def ejer7():\n",
    "    asignaturas = [\"matematicas\",\"fisica\",\"quimica\",\"historia\",\"lenguaje\"]\n",
    "    for leer in asignaturas:\n",
    "        print(\"Yo estudio\" , leer)\n",
    "print(ejer7())\n",
    "    "
   ]
  },
  {
   "cell_type": "code",
   "execution_count": 35,
   "metadata": {},
   "outputs": [
    {
     "name": "stdout",
     "output_type": "stream",
     "text": [
      "¿Cual fue tu calificación en matematicas?\n",
      "5\n",
      "¿Cual fue tu calificación en quimica?\n",
      "5\n",
      "¿Cual fue tu calificación en lenguaje?\n",
      "5\n"
     ]
    },
    {
     "data": {
      "text/plain": [
       "('Las asignaturas perdidas son: ', ['historia', 'lenguaje'])"
      ]
     },
     "execution_count": 35,
     "metadata": {},
     "output_type": "execute_result"
    }
   ],
   "source": [
    "def ejer8():\n",
    "    asignaturas = [\"matematicas\",\"fisica\",\"quimica\",\"historia\",\"lenguaje\"]\n",
    "    for leer in asignaturas:\n",
    "        print(f\"¿Cual fue tu calificación en {leer}?\")\n",
    "        nota = int(input())\n",
    "        print(nota)\n",
    "        if nota >= 3:\n",
    "            asignaturas.pop(0)\n",
    "    return \"Las asignaturas perdidas son: \",asignaturas\n",
    "ejer8()\n",
    "\n",
    "        "
   ]
  }
 ],
 "metadata": {
  "kernelspec": {
   "display_name": "Python 3.10.4 64-bit",
   "language": "python",
   "name": "python3"
  },
  "language_info": {
   "codemirror_mode": {
    "name": "ipython",
    "version": 3
   },
   "file_extension": ".py",
   "mimetype": "text/x-python",
   "name": "python",
   "nbconvert_exporter": "python",
   "pygments_lexer": "ipython3",
   "version": "3.10.4"
  },
  "orig_nbformat": 4,
  "vscode": {
   "interpreter": {
    "hash": "2deaf031474dc928cc85fe30425ff4c1d68960c32cdb004a5e00cb5abd07af61"
   }
  }
 },
 "nbformat": 4,
 "nbformat_minor": 2
}
