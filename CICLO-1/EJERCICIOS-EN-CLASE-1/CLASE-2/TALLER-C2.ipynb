{
 "cells": [
  {
   "cell_type": "markdown",
   "metadata": {},
   "source": [
    "## Reto 1\n"
   ]
  },
  {
   "cell_type": "code",
   "execution_count": 9,
   "metadata": {},
   "outputs": [
    {
     "name": "stdout",
     "output_type": "stream",
     "text": [
      "0 = (2 - 2) * 2 * 2 * 2\n",
      "1 = ((2//2) + (2//2))//2\n",
      "2 = (2*2)//(2*2)*2\n",
      "3 = ((2 // 2) * (2 // 2)) + 2\n",
      "4 = ((2 // 2) + (2 // 2)) + 2\n",
      "5 = ((2 * 2) - (2 // 2)) + 2\n",
      "6 = 2 + ((2*2*2)//2)\n",
      "7 = ((2 * 2) + (2 // 2)) + 2\n",
      "8 = (2 * 2 * 2 * 2 ) // 2\n",
      "9 = (2 // 2) + ((2 * 2) * 2)\n",
      "10 = ((2 // 2) + (2 * 2)) * 2\n"
     ]
    }
   ],
   "source": [
    "print((2 - 2) * 2 * 2 * 2,\"= (2 - 2) * 2 * 2 * 2\")\n",
    "print(((2//2) + (2//2))//2,\"= ((2//2) + (2//2))//2\")\n",
    "print((2*2)//(2*2)*2, \"= (2*2)//(2*2)*2\")\n",
    "print(((2 // 2) * (2 // 2)) + 2, \"= ((2 // 2) * (2 // 2)) + 2\")\n",
    "print(((2 // 2) + (2 // 2)) + 2, \"= ((2 // 2) + (2 // 2)) + 2\")\n",
    "print(((2 * 2) - (2 // 2)) + 2, \"= ((2 * 2) - (2 // 2)) + 2\")\n",
    "print(2 + ((2*2*2)//2), \"= 2 + ((2*2*2)//2)\")\n",
    "print(((2 * 2) + (2 // 2)) + 2, \"= ((2 * 2) + (2 // 2)) + 2\")\n",
    "print((2 * 2 * 2 * 2 ) // 2, \"= (2 * 2 * 2 * 2 ) // 2\")\n",
    "print((2 // 2) + ((2 * 2) * 2), \"= (2 // 2) + ((2 * 2) * 2)\")\n",
    "print(((2 // 2) + (2 * 2)) * 2, \"= ((2 // 2) + (2 * 2)) * 2\")"
   ]
  },
  {
   "cell_type": "markdown",
   "metadata": {},
   "source": [
    "## Reto 2\n"
   ]
  },
  {
   "cell_type": "code",
   "execution_count": 11,
   "metadata": {},
   "outputs": [
    {
     "name": "stdout",
     "output_type": "stream",
     "text": [
      "El movil tendra un valor de 504.0 € si se espera hasta el otro día\n"
     ]
    }
   ],
   "source": [
    "valor_movil_hoy = 420\n",
    "iva = 0.2\n",
    "total = valor_movil_hoy + (valor_movil_hoy * iva)\n",
    "print(f\"El movil tendra un valor de {total} € si se espera hasta el otro día\")"
   ]
  },
  {
   "cell_type": "code",
   "execution_count": null,
   "metadata": {},
   "outputs": [],
   "source": []
  },
  {
   "cell_type": "markdown",
   "metadata": {},
   "source": [
    "## Reto 3"
   ]
  },
  {
   "cell_type": "code",
   "execution_count": 16,
   "metadata": {},
   "outputs": [
    {
     "name": "stdout",
     "output_type": "stream",
     "text": [
      "El Fidget Spinner dara 1568 vueltas en 10.7 minutos\n"
     ]
    }
   ],
   "source": [
    "n_vueltas_min = 147\n",
    "tiempo_disponible = 640\n",
    "cantidad_minutos = tiempo_disponible / 60\n",
    "cantidad_vueltas = n_vueltas_min * cantidad_minutos\n",
    "print(f\"El Fidget Spinner dara {round(cantidad_vueltas)} vueltas en {round(cantidad_minutos,1)} minutos\")"
   ]
  },
  {
   "cell_type": "markdown",
   "metadata": {},
   "source": [
    "## Reto 4\n"
   ]
  },
  {
   "cell_type": "code",
   "execution_count": 21,
   "metadata": {},
   "outputs": [
    {
     "name": "stdout",
     "output_type": "stream",
     "text": [
      "A cada invitado le corresponden 3 latas de refresco \n",
      "Sobran 48 latas.\n"
     ]
    }
   ],
   "source": [
    "cajas = 9\n",
    "cant_latas_caja = 24\n",
    "total_latas = cajas * cant_latas_caja\n",
    "num_invitados = 56\n",
    "latas_por_persona = total_latas // num_invitados\n",
    "latas_sobrantes = total_latas - (num_invitados * latas_por_persona) \n",
    "print(f\"A cada invitado le corresponden {latas_por_persona} latas de refresco \\nSobran {latas_sobrantes} latas.\")"
   ]
  }
 ],
 "metadata": {
  "interpreter": {
   "hash": "2deaf031474dc928cc85fe30425ff4c1d68960c32cdb004a5e00cb5abd07af61"
  },
  "kernelspec": {
   "display_name": "Python 3.10.4 64-bit",
   "language": "python",
   "name": "python3"
  },
  "language_info": {
   "codemirror_mode": {
    "name": "ipython",
    "version": 3
   },
   "file_extension": ".py",
   "mimetype": "text/x-python",
   "name": "python",
   "nbconvert_exporter": "python",
   "pygments_lexer": "ipython3",
   "version": "3.10.4"
  },
  "orig_nbformat": 4
 },
 "nbformat": 4,
 "nbformat_minor": 2
}
